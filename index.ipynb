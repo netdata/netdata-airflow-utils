{
 "cells": [
  {
   "cell_type": "markdown",
   "metadata": {},
   "source": [
    "# Netdata Airflow Utils\n",
    "\n",
    "> Netdata utils, builder and wrapper functions for airflow.\n",
    "\n",
    "Docs: [netdata.github.io/netdata_airflow_utils](https://netdata.github.io/netdata_airflow_utils/)\n"
   ]
  },
  {
   "cell_type": "markdown",
   "metadata": {},
   "source": [
    "## Install"
   ]
  },
  {
   "cell_type": "markdown",
   "metadata": {},
   "source": [
    "```shell\n",
    "pip install netdata_airflow_utils\n",
    "```"
   ]
  },
  {
   "cell_type": "markdown",
   "metadata": {},
   "source": [
    "## How to use"
   ]
  },
  {
   "cell_type": "markdown",
   "metadata": {
    "pycharm": {
     "name": "#%% md\n"
    }
   },
   "source": [
    "```python\n",
    "from netdata_airflow_utils.bigquery import *\n",
    "```"
   ]
  }
 ],
 "metadata": {
  "interpreter": {
   "hash": "995e34c312c22e89932bed04143c00b6ef7de4959cc48a7050b38447307f24d8"
  },
  "kernelspec": {
   "display_name": "Python 3.8.5 64-bit ('venv': venv)",
   "name": "python3"
  },
  "language_info": {
   "codemirror_mode": {
    "name": "ipython",
    "version": 3
   },
   "file_extension": ".py",
   "mimetype": "text/x-python",
   "name": "python",
   "nbconvert_exporter": "python",
   "pygments_lexer": "ipython3",
   "version": "3.8.5"
  }
 },
 "nbformat": 4,
 "nbformat_minor": 2
}