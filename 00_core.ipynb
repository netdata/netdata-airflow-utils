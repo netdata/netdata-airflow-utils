{
 "cells": [
  {
   "cell_type": "code",
   "execution_count": null,
   "metadata": {},
   "outputs": [],
   "source": [
    "# default_exp core"
   ]
  },
  {
   "cell_type": "markdown",
   "metadata": {},
   "source": [
    "# Core"
   ]
  }
 ],
 "metadata": {
  "kernelspec": {
   "display_name": "Python 3.8.5 64-bit ('netdata-airflow-utils--F3buUxQ': virtualenv)",
   "name": "python3"
  }
 },
 "nbformat": 4,
 "nbformat_minor": 2
}
