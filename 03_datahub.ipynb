{
 "cells": [
  {
   "cell_type": "code",
   "execution_count": 1,
   "metadata": {},
   "outputs": [],
   "source": [
    "# default_exp datahub"
   ]
  },
  {
   "cell_type": "markdown",
   "metadata": {},
   "source": [
    "# DataHub\n",
    "\n",
    "> Do Stuff."
   ]
  },
  {
   "cell_type": "code",
   "execution_count": 2,
   "metadata": {},
   "outputs": [],
   "source": [
    "#hide\n",
    "from nbdev.showdoc import *"
   ]
  },
  {
   "cell_type": "code",
   "execution_count": null,
   "metadata": {},
   "outputs": [],
   "source": [
    "#export\n",
    "\n",
    "import datahub.emitter.mce_builder as builder\n",
    "from datahub_provider.operators.datahub import DatahubEmitterOperator\n",
    "from netdata_airflow_utils.utils import dest, sched, dest_dict\n"
   ]
  },
  {
   "cell_type": "code",
   "execution_count": 3,
   "metadata": {},
   "outputs": [],
   "source": [
    "#export\n",
    "\n",
    "\n",
    "def make_datahub_lineage_op(upstream_urns, downstream_urn, task_id=None, datahub_conn_id='datahub_rest_default', env='DEV', source_type='bigquery'):\n",
    "    if task_id is None:\n",
    "        task_id = f\"lineage__{'.'.join(downstream_urn.split('.')[-2:])}\"\n",
    "    return DatahubEmitterOperator(\n",
    "        task_id=task_id,\n",
    "        datahub_conn_id=datahub_conn_id,\n",
    "        mces=[\n",
    "            builder.make_lineage_mce(\n",
    "                upstream_urns=[builder.make_dataset_urn(source_type, dest(urn), env=env) for urn in upstream_urns],\n",
    "                downstream_urn=builder.make_dataset_urn(source_type, dest(downstream_urn), env=env),\n",
    "            )\n",
    "        ],\n",
    "    )\n",
    "\n"
   ]
  }
 ],
 "metadata": {
  "interpreter": {
   "hash": "fedf5a0bda284b600ce5cf8d11661c8aa181286e797d7b6aa742a7f5fed6b99f"
  },
  "kernelspec": {
   "display_name": "Python 3.8.5 64-bit ('netdata-airflow-utils--F3buUxQ': virtualenv)",
   "name": "python3"
  },
  "language_info": {
   "codemirror_mode": {
    "name": "ipython",
    "version": 3
   },
   "file_extension": ".py",
   "mimetype": "text/x-python",
   "name": "python",
   "nbconvert_exporter": "python",
   "pygments_lexer": "ipython3",
   "version": "3.8.5"
  }
 },
 "nbformat": 4,
 "nbformat_minor": 2
}
