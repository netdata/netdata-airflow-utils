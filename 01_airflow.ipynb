{
 "cells": [
  {
   "cell_type": "code",
   "execution_count": null,
   "metadata": {},
   "outputs": [],
   "source": [
    "# default_exp airflow"
   ]
  },
  {
   "cell_type": "markdown",
   "metadata": {},
   "source": [
    "# Airflow\n",
    "\n",
    "> Airflow-related utils functions"
   ]
  },
  {
   "cell_type": "code",
   "execution_count": 1,
   "metadata": {},
   "outputs": [],
   "source": [
    "#hide\n",
    "from nbdev.showdoc import *"
   ]
  },
  {
   "cell_type": "code",
   "execution_count": 2,
   "metadata": {},
   "outputs": [],
   "source": [
    "#export\n",
    "import os\n",
    "from typing import Dict, Any"
   ]
  },
  {
   "cell_type": "code",
   "execution_count": 3,
   "metadata": {},
   "outputs": [],
   "source": [
    "#export\n",
    "\n",
    "def default_args_builder(email_env_var: str = 'AIRFLOW_FAILURE_EMAILS') -> Dict[str, Any]:\n",
    "    \"\"\"Default args builder for an Airflow DAG.\n",
    "    \"\"\"\n",
    "    airflow_failure_emails = os.getenv(email_env_var,'your_email@example.com').split(',')\n",
    "    return {\n",
    "        \"owner\": \"Airflow\",\n",
    "        'email_on_failure': True,\n",
    "        'email_on_retry': False,\n",
    "        'email': airflow_failure_emails,\n",
    "        'use_legacy_sql': False,\n",
    "        'gcp_conn_id': 'google_cloud_default'\n",
    "    }"
   ]
  },
  {
   "cell_type": "code",
   "execution_count": 10,
   "metadata": {},
   "outputs": [],
   "source": [
    "#hide\n",
    "#tests\n",
    "os.environ.pop('AIRFLOW_FAILURE_EMAILS', None)\n",
    "default_args = default_args_builder()\n",
    "assert default_args == {\n",
    "    'owner': 'Airflow',\n",
    "    'email_on_failure': True,\n",
    "    'email_on_retry': False,\n",
    "    'email': ['your_email@example.com'],\n",
    "    'use_legacy_sql': False,\n",
    "    'gcp_conn_id': 'google_cloud_default'\n",
    "}\n",
    "os.environ['AIRFLOW_FAILURE_EMAILS'] = 'user1@domain.com,user2@domain.com'\n",
    "assert default_args_builder()['email'] == ['user1@domain.com', 'user2@domain.com']"
   ]
  }
 ],
 "metadata": {
  "kernelspec": {
   "display_name": "Python 3 (ipykernel)",
   "language": "python",
   "name": "python3"
  },
  "language_info": {
   "codemirror_mode": {
    "name": "ipython",
    "version": 3
   },
   "file_extension": ".py",
   "mimetype": "text/x-python",
   "name": "python",
   "nbconvert_exporter": "python",
   "pygments_lexer": "ipython3",
   "version": "3.9.7"
  }
 },
 "nbformat": 4,
 "nbformat_minor": 2
}