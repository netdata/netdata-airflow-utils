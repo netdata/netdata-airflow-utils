{
 "cells": [
  {
   "cell_type": "code",
   "execution_count": 1,
   "metadata": {},
   "outputs": [],
   "source": [
    "# default_exp airflow"
   ]
  },
  {
   "cell_type": "markdown",
   "metadata": {},
   "source": [
    "# Airflow\n",
    "\n",
    "> Do Stuff."
   ]
  },
  {
   "cell_type": "code",
   "execution_count": 2,
   "metadata": {},
   "outputs": [],
   "source": [
    "#hide\n",
    "from nbdev.showdoc import *"
   ]
  },
  {
   "cell_type": "code",
   "execution_count": null,
   "metadata": {},
   "outputs": [],
   "source": [
    "#export\n",
    "import os"
   ]
  },
  {
   "cell_type": "code",
   "execution_count": 3,
   "metadata": {},
   "outputs": [],
   "source": [
    "#export\n",
    "\n",
    "def default_args_builder(email_env_var='AIRFLOW_FAILURE_EMAILS'):\n",
    "    airflow_failure_emails = os.getenv(email_env_var,'your_email@example.com').split(',')\n",
    "    return {\n",
    "        \"owner\": \"Airflow\",\n",
    "        'email_on_failure': True,\n",
    "        'email_on_retry': False,\n",
    "        'email': airflow_failure_emails,\n",
    "        'use_legacy_sql': False,\n",
    "        'gcp_conn_id': 'google_cloud_default'\n",
    "    }\n"
   ]
  },
  {
   "cell_type": "code",
   "execution_count": 5,
   "metadata": {},
   "outputs": [],
   "source": [
    "#tests\n",
    "default_args = default_args_builder()\n",
    "assert default_args['owner'] == 'Airflow'\n",
    "assert default_args['email'] == ['your_email@example.com']"
   ]
  }
 ],
 "metadata": {
  "interpreter": {
   "hash": "fedf5a0bda284b600ce5cf8d11661c8aa181286e797d7b6aa742a7f5fed6b99f"
  },
  "kernelspec": {
   "display_name": "Python 3.8.5 64-bit ('netdata-airflow-utils--F3buUxQ': virtualenv)",
   "name": "python3"
  },
  "language_info": {
   "codemirror_mode": {
    "name": "ipython",
    "version": 3
   },
   "file_extension": ".py",
   "mimetype": "text/x-python",
   "name": "python",
   "nbconvert_exporter": "python",
   "pygments_lexer": "ipython3",
   "version": "3.8.5"
  }
 },
 "nbformat": 4,
 "nbformat_minor": 2
}
