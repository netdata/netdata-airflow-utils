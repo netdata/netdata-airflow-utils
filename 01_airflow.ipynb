{
 "cells": [
  {
   "cell_type": "code",
   "execution_count": null,
   "metadata": {},
   "outputs": [],
   "source": [
    "# default_exp airflow"
   ]
  },
  {
   "cell_type": "markdown",
   "metadata": {},
   "source": [
    "# Airflow\n",
    "\n",
    "> Do Stuff."
   ]
  },
  {
   "cell_type": "code",
   "execution_count": null,
   "metadata": {},
   "outputs": [],
   "source": [
    "#hide\n",
    "from nbdev.showdoc import *"
   ]
  },
  {
   "cell_type": "code",
   "execution_count": null,
   "metadata": {},
   "outputs": [],
   "source": [
    "#export\n",
    "import os"
   ]
  },
  {
   "cell_type": "code",
   "execution_count": null,
   "metadata": {},
   "outputs": [],
   "source": [
    "#export\n",
    "\n",
    "def default_args_builder(email_env_var='AIRFLOW_FAILURE_EMAILS'):\n",
    "    airflow_failure_emails = os.getenv(email_env_var,'your_email@example.com').split(',')\n",
    "    return {\n",
    "        \"owner\": \"Airflow\",\n",
    "        'email_on_failure': True,\n",
    "        'email_on_retry': False,\n",
    "        'email': airflow_failure_emails,\n",
    "        'use_legacy_sql': False,\n",
    "        'gcp_conn_id': 'google_cloud_default'\n",
    "    }\n"
   ]
  },
  {
   "cell_type": "code",
   "execution_count": null,
   "metadata": {},
   "outputs": [],
   "source": [
    "#tests\n",
    "default_args = default_args_builder()\n",
    "assert default_args['owner'] == 'Airflow'\n",
    "assert default_args['email'] == ['your_email@example.com']"
   ]
  }
 ],
 "metadata": {
  "kernelspec": {
   "display_name": "Python 3.8.5 64-bit ('netdata-airflow-utils--F3buUxQ': virtualenv)",
   "name": "python3"
  }
 },
 "nbformat": 4,
 "nbformat_minor": 2
}
