{
 "cells": [
  {
   "cell_type": "code",
   "execution_count": null,
   "metadata": {},
   "outputs": [],
   "source": [
    "# default_exp bigquery"
   ]
  },
  {
   "cell_type": "markdown",
   "metadata": {},
   "source": [
    "# BigQuery\n",
    "\n",
    "> BigQuery-related util functions."
   ]
  },
  {
   "cell_type": "code",
   "execution_count": null,
   "metadata": {},
   "outputs": [],
   "source": [
    "#hide\n",
    "from nbdev.showdoc import *"
   ]
  },
  {
   "cell_type": "code",
   "execution_count": null,
   "metadata": {},
   "outputs": [],
   "source": [
    "#export\n",
    "\n",
    "from typing import List\n",
    "from airflow.providers.google.cloud.operators.bigquery import BigQueryUpdateTableSchemaOperator, \\\n",
    "    BigQueryUpdateTableOperator\n",
    "from netdata_airflow_utils.utils import dest_dict\n"
   ]
  },
  {
   "cell_type": "code",
   "execution_count": null,
   "metadata": {},
   "outputs": [],
   "source": [
    "#export\n",
    "\n",
    "def make_table_desc_op(destination_table: str, description: str,\n",
    "                       task_id: str = None) -> BigQueryUpdateTableOperator:\n",
    "    \"\"\"Creates an `BigQueryUpdateTableOperator` in order to update table's description.\"\"\"\n",
    "    if task_id is None:\n",
    "        task_id = f\"description__{'.'.join(destination_table.split('.')[-2:])}\"\n",
    "\n",
    "    return BigQueryUpdateTableOperator(\n",
    "        task_id=task_id,\n",
    "        dataset_id=dest_dict(destination_table)['datasetId'],\n",
    "        table_id=dest_dict(destination_table)['tableId'],\n",
    "        table_resource={\n",
    "            \"description\": description,\n",
    "        },\n",
    "    )"
   ]
  },
  {
   "cell_type": "code",
   "execution_count": null,
   "metadata": {},
   "outputs": [],
   "source": [
    "#hide\n",
    "#tests\n",
    "desc_op = make_table_desc_op('sample1.sample2.sample3', 'blah', 'random_task_id')\n",
    "assert type(desc_op) == BigQueryUpdateTableOperator\n",
    "assert desc_op.task_id == 'random_task_id'"
   ]
  },
  {
   "cell_type": "code",
   "execution_count": null,
   "metadata": {},
   "outputs": [],
   "source": [
    "# export\n",
    "\n",
    "def make_table_schema_update_op(destination_table: str, schema: List[List[str]],\n",
    "                                task_id: str = None) -> BigQueryUpdateTableSchemaOperator:\n",
    "    \"\"\"Creates an `BigQueryUpdateTableSchemaOperator` in order to update schema's fields\"\"\"\n",
    "    if task_id is None:\n",
    "        task_id = f\"schema__{'.'.join(destination_table.split('.')[-2:])}\"\n",
    "\n",
    "    return BigQueryUpdateTableSchemaOperator(\n",
    "        task_id=task_id,\n",
    "        dataset_id=dest_dict(destination_table)['datasetId'],\n",
    "        table_id=dest_dict(destination_table)['tableId'],\n",
    "        schema_fields_updates=[{'name': s[0], 'description': s[1]} for s in schema]\n",
    "    )\n"
   ]
  },
  {
   "cell_type": "code",
   "execution_count": null,
   "metadata": {},
   "outputs": [],
   "source": [
    "#tests\n",
    "#hide\n",
    "schema_op = make_table_schema_update_op('p.d.t', schema=[['n', 'v']])\n",
    "assert type(schema_op) == BigQueryUpdateTableSchemaOperator\n",
    "\n",
    "\n"
   ]
  }
 ],
 "metadata": {
  "kernelspec": {
   "display_name": "Python 3 (ipykernel)",
   "language": "python",
   "name": "python3"
  }
 },
 "nbformat": 4,
 "nbformat_minor": 2
}
