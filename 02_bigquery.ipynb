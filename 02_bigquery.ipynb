{
 "cells": [
  {
   "cell_type": "code",
   "execution_count": 1,
   "metadata": {},
   "outputs": [],
   "source": [
    "# default_exp bigquery"
   ]
  },
  {
   "cell_type": "markdown",
   "metadata": {},
   "source": [
    "# BigQuery\n",
    "\n",
    "> Do Stuff."
   ]
  },
  {
   "cell_type": "code",
   "execution_count": 2,
   "metadata": {},
   "outputs": [],
   "source": [
    "#hide\n",
    "from nbdev.showdoc import *"
   ]
  },
  {
   "cell_type": "code",
   "execution_count": null,
   "metadata": {},
   "outputs": [],
   "source": [
    "#export\n",
    "\n",
    "from airflow.providers.google.cloud.operators.bigquery import BigQueryUpdateTableSchemaOperator, BigQueryUpdateTableOperator\n",
    "from netdata_airflow_utils.utils import dest, dest_dict\n"
   ]
  },
  {
   "cell_type": "code",
   "execution_count": 3,
   "metadata": {},
   "outputs": [],
   "source": [
    "#export\n",
    "\n",
    "def make_table_desc_op(destination_table, description, task_id=None):\n",
    "\n",
    "    if task_id is None:\n",
    "        task_id = f\"description__{'.'.join(destination_table.split('.')[-2:])}\"\n",
    "\n",
    "    return BigQueryUpdateTableOperator(\n",
    "        task_id=task_id,\n",
    "        dataset_id=dest_dict(destination_table)['datasetId'],\n",
    "        table_id=dest_dict(destination_table)['tableId'],\n",
    "        table_resource={\n",
    "            \"description\": description,\n",
    "        },\n",
    "    )\n",
    "\n",
    "\n",
    "def make_table_schema_update_op(destination_table, schema, task_id=None):\n",
    "\n",
    "    if task_id is None:\n",
    "        task_id = f\"schema__{'.'.join(destination_table.split('.')[-2:])}\"\n",
    "\n",
    "    return BigQueryUpdateTableSchemaOperator(\n",
    "        task_id=task_id,\n",
    "        dataset_id=dest_dict(destination_table)['datasetId'],\n",
    "        table_id=dest_dict(destination_table)['tableId'],\n",
    "        schema_fields_updates=[{'name': s[0], 'description': s[1]} for s in schema]\n",
    "    )\n",
    "\n"
   ]
  }
 ],
 "metadata": {
  "interpreter": {
   "hash": "fedf5a0bda284b600ce5cf8d11661c8aa181286e797d7b6aa742a7f5fed6b99f"
  },
  "kernelspec": {
   "display_name": "Python 3.8.5 64-bit ('netdata-airflow-utils--F3buUxQ': virtualenv)",
   "name": "python3"
  },
  "language_info": {
   "codemirror_mode": {
    "name": "ipython",
    "version": 3
   },
   "file_extension": ".py",
   "mimetype": "text/x-python",
   "name": "python",
   "nbconvert_exporter": "python",
   "pygments_lexer": "ipython3",
   "version": "3.8.5"
  }
 },
 "nbformat": 4,
 "nbformat_minor": 2
}
